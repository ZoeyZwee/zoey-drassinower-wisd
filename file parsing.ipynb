{
 "cells": [
  {
   "cell_type": "markdown",
   "source": [
    "# Data Parsing\n",
    "\n",
    "Parse the JSONL files for relevant info and store in a more useful format.\n",
    "Event data stored in a pandas DF\n",
    "Tracking data stored in a dict, keyed by file name (no suffix)"
   ],
   "metadata": {
    "collapsed": false
   },
   "id": "729a19812efb9880"
  },
  {
   "cell_type": "code",
   "execution_count": 1,
   "outputs": [],
   "source": [
    "%matplotlib notebook\n",
    "import json\n",
    "import pickle\n",
    "import matplotlib.pyplot as plt\n",
    "import pandas as pd\n",
    "plt.ion()\n",
    "import os\n",
    "from classes import PitchFrames"
   ],
   "metadata": {
    "collapsed": false,
    "ExecuteTime": {
     "end_time": "2024-07-03T17:43:31.121243200Z",
     "start_time": "2024-07-03T17:43:30.439538900Z"
    }
   },
   "id": "589736b9dc225892"
  },
  {
   "cell_type": "code",
   "execution_count": 2,
   "outputs": [],
   "source": [
    "df_rows = []\n",
    "tracking_frames = {} # to look up tracking data by file id\n",
    "for fname in os.listdir(\"data/raw wisd data/\"):\n",
    "    with open(\"data/raw wisd data/\"+fname, \"r\") as f:\n",
    "        dat = json.load(f)\n",
    "    fileID = fname[:-6]\n",
    "    \n",
    "    # event data\n",
    "    pitchType = dat[\"summary_acts\"][\"pitch\"][\"type\"]\n",
    "    result = dat[\"summary_acts\"][\"pitch\"][\"result\"]\n",
    "    if pitchType == {}:\n",
    "        pitchType = None\n",
    "    action = dat[\"summary_acts\"][\"pitch\"][\"action\"]\n",
    "    if action == {}:\n",
    "        action = None\n",
    "    df_rows.append([fileID, pitchType, result, action])\n",
    "    \n",
    "    # tracking data\n",
    "    tracking_frames[fileID] = PitchFrames.from_dict(dat[\"samples_ball\"], dat[\"samples_bat\"])"
   ],
   "metadata": {
    "collapsed": false,
    "ExecuteTime": {
     "end_time": "2024-07-03T17:43:33.789035400Z",
     "start_time": "2024-07-03T17:43:31.286488400Z"
    }
   },
   "id": "9f08a756335255cd"
  },
  {
   "cell_type": "code",
   "execution_count": 3,
   "outputs": [
    {
     "name": "stdout",
     "output_type": "stream",
     "text": [
      "Pitch Types: {None, 'Curveball', 'FourSeamFastball', 'Cutter', 'Changeup', 'Sinker', 'Slider'}\n",
      "Results: {'Pickoff', 'HitIntoPlay', 'Ball', 'Strike'}\n",
      "Actions: {None, 'HitByPitch', 'Blocked', 'Pitchout', 'Foul', 'FoulTip', 'BallInDirt', 'ThrowToSecond', 'Called', 'ThrowToFirst'}\n"
     ]
    }
   ],
   "source": [
    "print(\"Pitch Types:\", set([x[1] for x in df_rows]))\n",
    "print(\"Results:\", set([x[2] for x in df_rows]))\n",
    "print(\"Actions:\", set([x[3] for x in df_rows]))"
   ],
   "metadata": {
    "collapsed": false,
    "ExecuteTime": {
     "end_time": "2024-07-03T17:43:33.798443100Z",
     "start_time": "2024-07-03T17:43:33.791034900Z"
    }
   },
   "id": "50bac6eaa6134d0c"
  },
  {
   "cell_type": "code",
   "execution_count": 4,
   "outputs": [],
   "source": [
    "events_df = pd.DataFrame(df_rows, columns=[\"fileID\", \"pitchType\", \"result\", \"action\"])\n",
    "events_df.to_csv(\"data/WISD events.csv\")\n",
    "with open(\"data/WISD tracking.pickle\", \"wb\") as f:\n",
    "    pickle.dump(tracking_frames, f)"
   ],
   "metadata": {
    "collapsed": false,
    "ExecuteTime": {
     "end_time": "2024-07-03T17:43:34.519526500Z",
     "start_time": "2024-07-03T17:43:33.795441500Z"
    }
   },
   "id": "f7725cc1d71f4d8a"
  },
  {
   "cell_type": "code",
   "execution_count": null,
   "outputs": [],
   "source": [],
   "metadata": {
    "collapsed": false
   },
   "id": "53082ffd443fc8d5"
  }
 ],
 "metadata": {
  "kernelspec": {
   "display_name": "Python 3",
   "language": "python",
   "name": "python3"
  },
  "language_info": {
   "codemirror_mode": {
    "name": "ipython",
    "version": 2
   },
   "file_extension": ".py",
   "mimetype": "text/x-python",
   "name": "python",
   "nbconvert_exporter": "python",
   "pygments_lexer": "ipython2",
   "version": "2.7.6"
  }
 },
 "nbformat": 4,
 "nbformat_minor": 5
}
