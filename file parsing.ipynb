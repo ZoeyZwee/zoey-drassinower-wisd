{
 "cells": [
  {
   "cell_type": "markdown",
   "source": [
    "# Data Parsing and Investigation\n",
    "\n",
    "Parse the JSONL files for relevant info and store in a more useful format.\n",
    "Event data stored in a pandas DF\n",
    "Tracking data stored in a dict, keyed by file name (no suffix)"
   ],
   "metadata": {
    "collapsed": false
   },
   "id": "729a19812efb9880"
  },
  {
   "cell_type": "code",
   "execution_count": 1,
   "outputs": [],
   "source": [
    "%matplotlib notebook\n",
    "import json\n",
    "import pickle\n",
    "import matplotlib.pyplot as plt\n",
    "import pandas as pd\n",
    "plt.ion()\n",
    "import os\n",
    "import util"
   ],
   "metadata": {
    "collapsed": false,
    "ExecuteTime": {
     "end_time": "2024-09-17T17:07:32.630081800Z",
     "start_time": "2024-09-17T17:07:31.996250Z"
    }
   },
   "id": "589736b9dc225892"
  },
  {
   "cell_type": "code",
   "execution_count": 2,
   "outputs": [],
   "source": [
    "import numpy as np\n",
    "from numpy.polynomial import Polynomial\n",
    "import math\n",
    "\n",
    "\n",
    "def bat_elevation_angle(pitch_frames):\n",
    "    \"\"\"\n",
    "    determine the angle (in radians) the bat makes against the horizontal plane at the moment of contact\n",
    "    :param pitch_frames: PitchFrames object\n",
    "    \"\"\"\n",
    "    t_contact = pitch_frames.hit_time\n",
    "    handle = ([f for f in pitch_frames.handle if f.time == t_contact])[0]\n",
    "    head = ([f for f in pitch_frames.head if f.time == t_contact])[0]\n",
    "    x = head.x-handle.x\n",
    "    y = head.y-handle.x\n",
    "    z = head.z-handle.z\n",
    "    bat_length = math.sqrt(x**2 + y**2 + z**2) \n",
    "    return math.degrees(math.asin(z/bat_length))\n",
    "\n",
    "\n",
    "def bat_forward_tilt_angle(pitch_frames):\n",
    "    \"\"\"\n",
    "    determine the angle (in radians) the bat makes against the plane of the strike box (x-z plane)\n",
    "    :param pitch_frames: PitchFrames object\n",
    "    \"\"\"\n",
    "    t_contact = pitch_frames.hit_time\n",
    "    handle = ([f for f in pitch_frames.handle if f.time == t_contact])[0]\n",
    "    head = ([f for f in pitch_frames.head if f.time == t_contact])[0]\n",
    "    x = head.x-handle.x\n",
    "    y = head.y-handle.y\n",
    "    z = head.z-handle.z\n",
    "    bat_length = math.sqrt(x**2 + y**2 + z**2) # calculated from the tracking data\n",
    "    return math.degrees(math.asin(y/bat_length))\n",
    "\n",
    "def get_speed(frames, hit_time):\n",
    "    \"\"\"determine the speed of the head at the moment of contact\n",
    "    :param frames: list of Frames for the bat head OR handle\n",
    "    returns: speed, [x,y,z components] in miles per hour\"\"\"\n",
    "\n",
    "    x, y, z, t = util.extract_coords_from_frames(frames, hit_time-0.01, hit_time+0.01)\n",
    "    x_speed = 0.682 * (Polynomial.fit(t, x, 1)).convert().coef[1]  # have to .convert() otherwise values are scaled all funky\n",
    "    y_speed = 0.682 * (Polynomial.fit(t, y, 1)).convert().coef[1]  # 0.682 converts from feet per second to miles per hour\n",
    "    z_speed = 0.682 * (Polynomial.fit(t, z, 1)).convert().coef[1]\n",
    "    \n",
    "    return np.sqrt(x_speed**2 + y_speed**2 + z_speed**2), [x_speed, y_speed, z_speed]\n",
    "\n"
   ],
   "metadata": {
    "collapsed": false,
    "ExecuteTime": {
     "end_time": "2024-09-17T17:07:32.637683600Z",
     "start_time": "2024-09-17T17:07:32.635163600Z"
    }
   },
   "id": "ae253972c4bc338f"
  },
  {
   "cell_type": "code",
   "execution_count": 3,
   "outputs": [],
   "source": [
    "names = [\n",
    "    \"Alice Atkins\",\n",
    "    \"Bob Batterson\",\n",
    "    \"Clara Clapham\",\n",
    "    \"David Dunkins\",\n",
    "    \"Ernest Engels\",\n",
    "    \"Frankie Fisher\",\n",
    "    \"Gabby Galway\",\n",
    "    \"Harry Hitterson\",\n",
    "    \"Ivy Isles\",\n",
    "    \"James Jacobson\",\n",
    "    \"Kyle Kevins\",\n",
    "    \"Liam Lowes\",\n",
    "    \"Mia Martinez\",\n",
    "    \"Nolan Nash\",\n",
    "    \"Olivia Olsen\",\n",
    "    \"Peter Parker\",\n",
    "    \"Quinn Quest\",\n",
    "    \"Ryan Reeve\",\n",
    "    \"Stacey Statkin\",\n",
    "    \"Talyor Tomlinson\",\n",
    "    \"Umberto Umbridge\",\n",
    "    \"Vivian Valley\",\n",
    "    \"Will Watkins\",\n",
    "    \"Xavier Xi\",\n",
    "    \"Yuri Yi\",\n",
    "    \"Zoey Zoolander\",\n",
    "    \"Arthur Bills\",\n",
    "    \"Chris Dane\",\n",
    "    \"Evan French\",\n",
    "    \"Gus Howe\",\n",
    "    \"John Knowles\",\n",
    "    \"Larry Michaels\",\n",
    "    \"Nina Owens\"\n",
    "]"
   ],
   "metadata": {
    "collapsed": false,
    "ExecuteTime": {
     "end_time": "2024-09-17T17:07:32.646227100Z",
     "start_time": "2024-09-17T17:07:32.638681400Z"
    }
   },
   "id": "6c32c7f5ab1213d4"
  },
  {
   "cell_type": "code",
   "execution_count": 6,
   "outputs": [
    {
     "name": "stderr",
     "output_type": "stream",
     "text": [
      "D:\\Programming\\GithubRepos\\zoey-drassinower-wisd\\venv\\Lib\\site-packages\\numpy\\polynomial\\polyutils.py:303: RuntimeWarning: divide by zero encountered in scalar divide\n",
      "  off = (old[1]*new[0] - old[0]*new[1])/oldlen\n",
      "D:\\Programming\\GithubRepos\\zoey-drassinower-wisd\\venv\\Lib\\site-packages\\numpy\\polynomial\\polyutils.py:304: RuntimeWarning: divide by zero encountered in scalar divide\n",
      "  scl = newlen/oldlen\n",
      "D:\\Programming\\GithubRepos\\zoey-drassinower-wisd\\venv\\Lib\\site-packages\\numpy\\polynomial\\polyutils.py:372: RuntimeWarning: invalid value encountered in add\n",
      "  return off + scl*x\n"
     ]
    }
   ],
   "source": [
    "from collections import defaultdict\n",
    "\n",
    "names_iter = iter(names)\n",
    "name_lookup = defaultdict(lambda: next(names_iter))\n",
    "df_rows = []\n",
    "tracking_frames = {} # to look up tracking data by file id\n",
    "for fname in os.listdir(\"private/raw wisd data/\"):\n",
    "    with open(\"private/raw wisd data/\"+fname, \"r\") as f:\n",
    "        dat = json.load(f)\n",
    "    fileID = fname[:-6] # drop .jsonl suffix\n",
    "    \n",
    "    # tracking data\n",
    "    tracking_frames[fileID] = util.PitchFrames.from_dict(dat[\"samples_ball\"], dat[\"samples_bat\"])\n",
    "    \n",
    "    # event data\n",
    "    row_dict = {\n",
    "        # \"fileID\": fileID,\n",
    "        \"result\": dat[\"summary_acts\"][\"pitch\"][\"result\"],\n",
    "        \"action\": dat[\"summary_acts\"][\"pitch\"][\"action\"],\n",
    "        \"has_hit\": bool(len([True for event in dat[\"events\"] if \"Hit\" in event.values()])),\n",
    "        \"has_bat\": tracking_frames[fileID].has_bat()\n",
    "    }\n",
    "    if row_dict[\"action\"] == {}: # \"no action\" is encoded in JSON as an empty dict, instead of None.\n",
    "        row_dict[\"action\"] = None\n",
    "        \n",
    "    if not row_dict[\"has_hit\"]:   # include extra metrics on hits\n",
    "        continue\n",
    "\n",
    "    # name_lookup is a defaultdict, so it will pull the next un-used name when it encounters a new ID\n",
    "    batterID = dat[\"events\"][0][\"personId\"][\"mlbId\"]\n",
    "    row_dict[\"batter_name\"] = name_lookup[batterID]\n",
    "    \n",
    "    row_dict[\"spray_angle\"], row_dict[\"launch_angle\"] = dat[\"events\"][0][\"start\"][\"angle\"]\n",
    "    exit_velocity = dat[\"summary_acts\"][\"hit\"][\"speed\"][\"mph\"]\n",
    "    row_dict[\"exit_velocity\"] = exit_velocity\n",
    "        \n",
    "    # bat properties at contact\n",
    "    try:\n",
    "        row_dict[\"bat_elevation\"] = bat_elevation_angle(tracking_frames[fileID])\n",
    "        row_dict[\"bat_forward_tilt\"] = bat_forward_tilt_angle(tracking_frames[fileID])\n",
    "        row_dict[\"head_speed\"], [row_dict[\"head_speed_x\"], row_dict[\"head_speed_y\"], row_dict[\"head_speed_z\"]] = get_speed(tracking_frames[fileID].head, tracking_frames[fileID].hit_time)\n",
    "        row_dict[\"handle_speed\"], [row_dict[\"handle_speed_x\"], row_dict[\"handle_speed_y\"], row_dict[\"handle_speed_z\"]] = get_speed(tracking_frames[fileID].handle, tracking_frames[fileID].hit_time)\n",
    "    except Exception as e:\n",
    "        # row_dict[\"parse_error\"] = repr(e)] # store errors in df for inspection\n",
    "        continue\n",
    "    df_rows.append(row_dict)\n",
    "\n",
    "event_df = pd.DataFrame.from_records(df_rows)\n"
   ],
   "metadata": {
    "collapsed": false,
    "ExecuteTime": {
     "end_time": "2024-09-17T17:08:08.794824200Z",
     "start_time": "2024-09-17T17:08:02.817149800Z"
    }
   },
   "id": "9f08a756335255cd"
  },
  {
   "cell_type": "code",
   "execution_count": 7,
   "outputs": [],
   "source": [
    "# load xxBA model and add to df\n",
    "with open(\"xxba.pickle\", \"rb\") as f:\n",
    "    xxba_model = pickle.load(f)\n",
    "is_hit = event_df.has_hit & event_df.has_bat\n",
    "event_df['xxBA'] = np.nan\n",
    "event_df.loc[is_hit, 'xxBA'] = xxba_model.predict(event_df[is_hit][[\"exit_velocity\", \"launch_angle\"]])"
   ],
   "metadata": {
    "collapsed": false,
    "ExecuteTime": {
     "end_time": "2024-09-17T17:08:13.001233500Z",
     "start_time": "2024-09-17T17:08:12.389285600Z"
    }
   },
   "id": "2dd3b5109abc8170"
  },
  {
   "cell_type": "code",
   "execution_count": null,
   "outputs": [],
   "source": [],
   "metadata": {
    "collapsed": false
   },
   "id": "b7423b5eb3ea69ad"
  },
  {
   "cell_type": "code",
   "execution_count": 12,
   "outputs": [],
   "source": [
    "# only save rows/cols which are needed for Streamlit\n",
    "# df = event_df[event_df.parse_error.isna()]\n",
    "# df = df.drop(\"parse_error\", axis=1)\n",
    "df = event_df\n",
    "df = df[df.has_bat & df.has_hit]\n",
    "\n",
    "df.to_csv(\"data/WISD events.csv\", index=False)\n",
    "# \n",
    "# with open(\"data/WISD tracking.pickle\", \"wb\") as f:\n",
    "#     pickle.dump(tracking_frames, f)"
   ],
   "metadata": {
    "collapsed": false,
    "ExecuteTime": {
     "end_time": "2024-09-17T17:09:27.329852700Z",
     "start_time": "2024-09-17T17:09:27.244179900Z"
    }
   },
   "id": "4ef6ae5dd61725e4"
  },
  {
   "cell_type": "markdown",
   "source": [
    "# Player Stats"
   ],
   "metadata": {
    "collapsed": false
   },
   "id": "7042f7ed75462501"
  },
  {
   "cell_type": "code",
   "execution_count": 7,
   "outputs": [],
   "source": [
    "# make stats df\n",
    "def count_hits(result_col):\n",
    "    counts = result_col.value_counts()\n",
    "    try:\n",
    "        return counts[\"HitIntoPlay\"]\n",
    "    except KeyError:\n",
    "        return 0\n",
    "\n",
    "\n",
    "def count_fouls(result_col):\n",
    "    counts = result_col.value_counts()\n",
    "    try:\n",
    "        return counts[\"Strike\"]\n",
    "    except KeyError:\n",
    "        return 0\n",
    "    \n",
    "df = event_df[event_df.parse_error.isna()]  # only retain rows without parse errors\n",
    "df = df.drop(\"parse_error\", axis=1)  # remove parse_error column\n",
    "gp = df.groupby([\"batter_name\"])\n",
    "stats = gp.agg(\n",
    "    hits=pd.NamedAgg(column=\"result\", aggfunc=count_hits),\n",
    "    fouls=pd.NamedAgg(column=\"result\", aggfunc=count_fouls),\n",
    "    avg_xxBA=pd.NamedAgg(column=\"xxBA\", aggfunc=\"mean\")\n",
    ")\n",
    "stats[\"pitches_received\"] = gp.size()\n",
    "stats[\"fair_foul_ratio\"] = stats.hits / stats.fouls\n",
    "stats.replace([np.inf], np.nan, inplace=True)\n",
    "stats.to_csv(\"data/WISD stats.csv\")"
   ],
   "metadata": {
    "collapsed": false,
    "ExecuteTime": {
     "end_time": "2024-08-29T20:51:11.051083Z",
     "start_time": "2024-08-29T20:51:10.913272700Z"
    }
   },
   "id": "1d65361ca982de38"
  },
  {
   "cell_type": "code",
   "execution_count": 8,
   "outputs": [
    {
     "data": {
      "text/plain": "              fileID       result      action  has_hit  has_bat     batterID  \\\n30    12345634_14070  HitIntoPlay        None     True    False  474808052.0   \n979   12345645_23493         Ball  HitByPitch     True    False  174158975.0   \n987   12345645_24682  HitIntoPlay        None     True     True  174158975.0   \n1065  12345645_37152         Ball  HitByPitch     True    False  765710437.0   \n1081  12345645_39809         Ball  HitByPitch     True    False  474808052.0   \n\n           batter_name  spray_angle  launch_angle  exit_velocity  ...  \\\n30         Kyle Kevins     4.649429     10.713578           85.0  ...   \n979   Umberto Umbridge   129.770833    -12.589174           34.0  ...   \n987   Umberto Umbridge   -20.672050    -37.347368           25.0  ...   \n1065      Olivia Olsen   102.967958     46.772069           27.0  ...   \n1081       Kyle Kevins   178.276243     21.334844           52.0  ...   \n\n     head_speed  head_speed_x  head_speed_y  head_speed_z  handle_speed  \\\n30          NaN           NaN           NaN           NaN           NaN   \n979         NaN           NaN           NaN           NaN           NaN   \n987         NaN           NaN           NaN           NaN           NaN   \n1065        NaN           NaN           NaN           NaN           NaN   \n1081        NaN           NaN           NaN           NaN           NaN   \n\n      handle_speed_x  handle_speed_y  handle_speed_z  \\\n30               NaN             NaN             NaN   \n979              NaN             NaN             NaN   \n987              NaN             NaN             NaN   \n1065             NaN             NaN             NaN   \n1081             NaN             NaN             NaN   \n\n                                            parse_error      xxBA  \n30       TypeError(\"'NoneType' object is not iterable\")       NaN  \n979      TypeError(\"'NoneType' object is not iterable\")       NaN  \n987   LinAlgError('SVD did not converge in Linear Le...  0.269867  \n1065     TypeError(\"'NoneType' object is not iterable\")       NaN  \n1081     TypeError(\"'NoneType' object is not iterable\")       NaN  \n\n[5 rows x 23 columns]",
      "text/html": "<div>\n<style scoped>\n    .dataframe tbody tr th:only-of-type {\n        vertical-align: middle;\n    }\n\n    .dataframe tbody tr th {\n        vertical-align: top;\n    }\n\n    .dataframe thead th {\n        text-align: right;\n    }\n</style>\n<table border=\"1\" class=\"dataframe\">\n  <thead>\n    <tr style=\"text-align: right;\">\n      <th></th>\n      <th>fileID</th>\n      <th>result</th>\n      <th>action</th>\n      <th>has_hit</th>\n      <th>has_bat</th>\n      <th>batterID</th>\n      <th>batter_name</th>\n      <th>spray_angle</th>\n      <th>launch_angle</th>\n      <th>exit_velocity</th>\n      <th>...</th>\n      <th>head_speed</th>\n      <th>head_speed_x</th>\n      <th>head_speed_y</th>\n      <th>head_speed_z</th>\n      <th>handle_speed</th>\n      <th>handle_speed_x</th>\n      <th>handle_speed_y</th>\n      <th>handle_speed_z</th>\n      <th>parse_error</th>\n      <th>xxBA</th>\n    </tr>\n  </thead>\n  <tbody>\n    <tr>\n      <th>30</th>\n      <td>12345634_14070</td>\n      <td>HitIntoPlay</td>\n      <td>None</td>\n      <td>True</td>\n      <td>False</td>\n      <td>474808052.0</td>\n      <td>Kyle Kevins</td>\n      <td>4.649429</td>\n      <td>10.713578</td>\n      <td>85.0</td>\n      <td>...</td>\n      <td>NaN</td>\n      <td>NaN</td>\n      <td>NaN</td>\n      <td>NaN</td>\n      <td>NaN</td>\n      <td>NaN</td>\n      <td>NaN</td>\n      <td>NaN</td>\n      <td>TypeError(\"'NoneType' object is not iterable\")</td>\n      <td>NaN</td>\n    </tr>\n    <tr>\n      <th>979</th>\n      <td>12345645_23493</td>\n      <td>Ball</td>\n      <td>HitByPitch</td>\n      <td>True</td>\n      <td>False</td>\n      <td>174158975.0</td>\n      <td>Umberto Umbridge</td>\n      <td>129.770833</td>\n      <td>-12.589174</td>\n      <td>34.0</td>\n      <td>...</td>\n      <td>NaN</td>\n      <td>NaN</td>\n      <td>NaN</td>\n      <td>NaN</td>\n      <td>NaN</td>\n      <td>NaN</td>\n      <td>NaN</td>\n      <td>NaN</td>\n      <td>TypeError(\"'NoneType' object is not iterable\")</td>\n      <td>NaN</td>\n    </tr>\n    <tr>\n      <th>987</th>\n      <td>12345645_24682</td>\n      <td>HitIntoPlay</td>\n      <td>None</td>\n      <td>True</td>\n      <td>True</td>\n      <td>174158975.0</td>\n      <td>Umberto Umbridge</td>\n      <td>-20.672050</td>\n      <td>-37.347368</td>\n      <td>25.0</td>\n      <td>...</td>\n      <td>NaN</td>\n      <td>NaN</td>\n      <td>NaN</td>\n      <td>NaN</td>\n      <td>NaN</td>\n      <td>NaN</td>\n      <td>NaN</td>\n      <td>NaN</td>\n      <td>LinAlgError('SVD did not converge in Linear Le...</td>\n      <td>0.269867</td>\n    </tr>\n    <tr>\n      <th>1065</th>\n      <td>12345645_37152</td>\n      <td>Ball</td>\n      <td>HitByPitch</td>\n      <td>True</td>\n      <td>False</td>\n      <td>765710437.0</td>\n      <td>Olivia Olsen</td>\n      <td>102.967958</td>\n      <td>46.772069</td>\n      <td>27.0</td>\n      <td>...</td>\n      <td>NaN</td>\n      <td>NaN</td>\n      <td>NaN</td>\n      <td>NaN</td>\n      <td>NaN</td>\n      <td>NaN</td>\n      <td>NaN</td>\n      <td>NaN</td>\n      <td>TypeError(\"'NoneType' object is not iterable\")</td>\n      <td>NaN</td>\n    </tr>\n    <tr>\n      <th>1081</th>\n      <td>12345645_39809</td>\n      <td>Ball</td>\n      <td>HitByPitch</td>\n      <td>True</td>\n      <td>False</td>\n      <td>474808052.0</td>\n      <td>Kyle Kevins</td>\n      <td>178.276243</td>\n      <td>21.334844</td>\n      <td>52.0</td>\n      <td>...</td>\n      <td>NaN</td>\n      <td>NaN</td>\n      <td>NaN</td>\n      <td>NaN</td>\n      <td>NaN</td>\n      <td>NaN</td>\n      <td>NaN</td>\n      <td>NaN</td>\n      <td>TypeError(\"'NoneType' object is not iterable\")</td>\n      <td>NaN</td>\n    </tr>\n  </tbody>\n</table>\n<p>5 rows × 23 columns</p>\n</div>"
     },
     "execution_count": 8,
     "metadata": {},
     "output_type": "execute_result"
    }
   ],
   "source": [
    "event_df[~event_df.parse_error.isna()]"
   ],
   "metadata": {
    "collapsed": false,
    "ExecuteTime": {
     "end_time": "2024-08-29T20:51:11.077915400Z",
     "start_time": "2024-08-29T20:51:11.047083800Z"
    }
   },
   "id": "57cdc20fbb5544b9"
  },
  {
   "cell_type": "code",
   "execution_count": 9,
   "outputs": [
    {
     "data": {
      "text/plain": "batterID\n797957728.0    23\n459722179.0    19\n352830460.0    18\n719146721.0    18\n412098649.0    17\n485007791.0    16\n719210239.0    14\n174158975.0    14\n360906992.0    13\n765710437.0    12\n474808052.0    11\n590082479.0    11\n451871192.0    11\n558675411.0    11\n172804761.0    10\n618024297.0    10\n290569727.0     9\n805688901.0     9\n545569723.0     9\n854238128.0     9\n568527038.0     8\n849653732.0     7\n654287703.0     7\n505414610.0     7\n686425745.0     6\n223971350.0     5\n617522563.0     5\n432216743.0     5\n518481551.0     4\n797796542.0     1\n563942271.0     1\nName: count, dtype: int64"
     },
     "execution_count": 9,
     "metadata": {},
     "output_type": "execute_result"
    }
   ],
   "source": [
    "event_df.batterID.value_counts()"
   ],
   "metadata": {
    "collapsed": false,
    "ExecuteTime": {
     "end_time": "2024-08-29T20:51:11.087233800Z",
     "start_time": "2024-08-29T20:51:11.076915800Z"
    }
   },
   "id": "6b7f129127896e24"
  },
  {
   "cell_type": "code",
   "execution_count": 10,
   "outputs": [
    {
     "data": {
      "text/plain": "              fileID       result action  has_hit  has_bat     batterID  \\\n2     12345634_10282  HitIntoPlay   None     True     True  797796542.0   \n3     12345634_10475  HitIntoPlay   None     True     True  352830460.0   \n6     12345634_10962       Strike   Foul     True     True  412098649.0   \n10    12345634_11227  HitIntoPlay   None     True     True  797957728.0   \n14    12345634_11462       Strike   Foul     True     True  459722179.0   \n...              ...          ...    ...      ...      ...          ...   \n1176   12345645_7688  HitIntoPlay   None     True     True  474808052.0   \n1177   12345645_7717       Strike   Foul     True     True  618024297.0   \n1180   12345645_8063  HitIntoPlay   None     True     True  352830460.0   \n1181   12345645_8329  HitIntoPlay   None     True     True  618024297.0   \n1188   12345645_9382  HitIntoPlay   None     True     True  485007791.0   \n\n        batter_name  spray_angle  launch_angle  exit_velocity  ... head_speed  \\\n2      Alice Atkins    27.482589     65.837960           24.0  ...  84.317537   \n3     Bob Batterson    37.200279     -9.146789           96.0  ...  67.015054   \n6     Clara Clapham   -47.134220     29.573660           86.0  ...  61.891088   \n10    David Dunkins     8.567380     36.176988           89.0  ...  73.607843   \n14    Ernest Engels   -78.757461    -44.256670           67.0  ...  69.373395   \n...             ...          ...           ...            ...  ...        ...   \n1176    Kyle Kevins    -1.583902     70.512403           82.0  ...  73.022539   \n1177      Xavier Xi  -129.760609     64.208298           76.0  ...  77.365996   \n1180  Bob Batterson    15.014613     31.432694          103.0  ...  44.457782   \n1181      Xavier Xi    22.143770     12.095113          101.0  ...  66.105160   \n1188     Liam Lowes   -60.582205    -62.338798           56.0  ...  74.515074   \n\n      head_speed_x  head_speed_y  head_speed_z  handle_speed  handle_speed_x  \\\n2       -15.306269     82.620339      7.003204     14.193727      -13.724390   \n3         8.786029     62.691727     21.990237      8.860497        6.891844   \n6       -20.159199     58.377782     -4.018468      9.710465        3.260890   \n10      -17.802723     71.394181      2.012081     13.674726       -9.934519   \n14      -25.820465     61.270731     19.795684      8.934200       -7.247050   \n...            ...           ...           ...           ...             ...   \n1176    -27.290506     66.899896     10.579384     12.581675      -11.548788   \n1177     10.794742     75.625736     12.235964      7.306535        4.552919   \n1180    -21.139064     39.110093     -0.187209     30.589680      -21.115396   \n1181      9.156616     63.516617     15.864676      5.900034        3.928948   \n1188      7.985560     74.054809      2.147624     11.725862      -10.541984   \n\n      handle_speed_y  handle_speed_z  parse_error      xxBA  \n2          -2.990165       -2.040080          NaN  0.072600  \n3           1.445608        5.377835          NaN  0.226067  \n6           9.145496       -0.140149          NaN  0.053333  \n10         -4.624728        8.180181          NaN  0.024267  \n14          1.746598       -4.924388          NaN  0.166000  \n...              ...             ...          ...       ...  \n1176        4.030805        2.945614          NaN  0.002733  \n1177        5.714542       -0.019950          NaN  0.003000  \n1180       22.075472       -1.594411          NaN  0.700000  \n1181        2.432455        3.668369          NaN  0.934000  \n1188        5.124419        0.320534          NaN  0.259467  \n\n[320 rows x 23 columns]",
      "text/html": "<div>\n<style scoped>\n    .dataframe tbody tr th:only-of-type {\n        vertical-align: middle;\n    }\n\n    .dataframe tbody tr th {\n        vertical-align: top;\n    }\n\n    .dataframe thead th {\n        text-align: right;\n    }\n</style>\n<table border=\"1\" class=\"dataframe\">\n  <thead>\n    <tr style=\"text-align: right;\">\n      <th></th>\n      <th>fileID</th>\n      <th>result</th>\n      <th>action</th>\n      <th>has_hit</th>\n      <th>has_bat</th>\n      <th>batterID</th>\n      <th>batter_name</th>\n      <th>spray_angle</th>\n      <th>launch_angle</th>\n      <th>exit_velocity</th>\n      <th>...</th>\n      <th>head_speed</th>\n      <th>head_speed_x</th>\n      <th>head_speed_y</th>\n      <th>head_speed_z</th>\n      <th>handle_speed</th>\n      <th>handle_speed_x</th>\n      <th>handle_speed_y</th>\n      <th>handle_speed_z</th>\n      <th>parse_error</th>\n      <th>xxBA</th>\n    </tr>\n  </thead>\n  <tbody>\n    <tr>\n      <th>2</th>\n      <td>12345634_10282</td>\n      <td>HitIntoPlay</td>\n      <td>None</td>\n      <td>True</td>\n      <td>True</td>\n      <td>797796542.0</td>\n      <td>Alice Atkins</td>\n      <td>27.482589</td>\n      <td>65.837960</td>\n      <td>24.0</td>\n      <td>...</td>\n      <td>84.317537</td>\n      <td>-15.306269</td>\n      <td>82.620339</td>\n      <td>7.003204</td>\n      <td>14.193727</td>\n      <td>-13.724390</td>\n      <td>-2.990165</td>\n      <td>-2.040080</td>\n      <td>NaN</td>\n      <td>0.072600</td>\n    </tr>\n    <tr>\n      <th>3</th>\n      <td>12345634_10475</td>\n      <td>HitIntoPlay</td>\n      <td>None</td>\n      <td>True</td>\n      <td>True</td>\n      <td>352830460.0</td>\n      <td>Bob Batterson</td>\n      <td>37.200279</td>\n      <td>-9.146789</td>\n      <td>96.0</td>\n      <td>...</td>\n      <td>67.015054</td>\n      <td>8.786029</td>\n      <td>62.691727</td>\n      <td>21.990237</td>\n      <td>8.860497</td>\n      <td>6.891844</td>\n      <td>1.445608</td>\n      <td>5.377835</td>\n      <td>NaN</td>\n      <td>0.226067</td>\n    </tr>\n    <tr>\n      <th>6</th>\n      <td>12345634_10962</td>\n      <td>Strike</td>\n      <td>Foul</td>\n      <td>True</td>\n      <td>True</td>\n      <td>412098649.0</td>\n      <td>Clara Clapham</td>\n      <td>-47.134220</td>\n      <td>29.573660</td>\n      <td>86.0</td>\n      <td>...</td>\n      <td>61.891088</td>\n      <td>-20.159199</td>\n      <td>58.377782</td>\n      <td>-4.018468</td>\n      <td>9.710465</td>\n      <td>3.260890</td>\n      <td>9.145496</td>\n      <td>-0.140149</td>\n      <td>NaN</td>\n      <td>0.053333</td>\n    </tr>\n    <tr>\n      <th>10</th>\n      <td>12345634_11227</td>\n      <td>HitIntoPlay</td>\n      <td>None</td>\n      <td>True</td>\n      <td>True</td>\n      <td>797957728.0</td>\n      <td>David Dunkins</td>\n      <td>8.567380</td>\n      <td>36.176988</td>\n      <td>89.0</td>\n      <td>...</td>\n      <td>73.607843</td>\n      <td>-17.802723</td>\n      <td>71.394181</td>\n      <td>2.012081</td>\n      <td>13.674726</td>\n      <td>-9.934519</td>\n      <td>-4.624728</td>\n      <td>8.180181</td>\n      <td>NaN</td>\n      <td>0.024267</td>\n    </tr>\n    <tr>\n      <th>14</th>\n      <td>12345634_11462</td>\n      <td>Strike</td>\n      <td>Foul</td>\n      <td>True</td>\n      <td>True</td>\n      <td>459722179.0</td>\n      <td>Ernest Engels</td>\n      <td>-78.757461</td>\n      <td>-44.256670</td>\n      <td>67.0</td>\n      <td>...</td>\n      <td>69.373395</td>\n      <td>-25.820465</td>\n      <td>61.270731</td>\n      <td>19.795684</td>\n      <td>8.934200</td>\n      <td>-7.247050</td>\n      <td>1.746598</td>\n      <td>-4.924388</td>\n      <td>NaN</td>\n      <td>0.166000</td>\n    </tr>\n    <tr>\n      <th>...</th>\n      <td>...</td>\n      <td>...</td>\n      <td>...</td>\n      <td>...</td>\n      <td>...</td>\n      <td>...</td>\n      <td>...</td>\n      <td>...</td>\n      <td>...</td>\n      <td>...</td>\n      <td>...</td>\n      <td>...</td>\n      <td>...</td>\n      <td>...</td>\n      <td>...</td>\n      <td>...</td>\n      <td>...</td>\n      <td>...</td>\n      <td>...</td>\n      <td>...</td>\n      <td>...</td>\n    </tr>\n    <tr>\n      <th>1176</th>\n      <td>12345645_7688</td>\n      <td>HitIntoPlay</td>\n      <td>None</td>\n      <td>True</td>\n      <td>True</td>\n      <td>474808052.0</td>\n      <td>Kyle Kevins</td>\n      <td>-1.583902</td>\n      <td>70.512403</td>\n      <td>82.0</td>\n      <td>...</td>\n      <td>73.022539</td>\n      <td>-27.290506</td>\n      <td>66.899896</td>\n      <td>10.579384</td>\n      <td>12.581675</td>\n      <td>-11.548788</td>\n      <td>4.030805</td>\n      <td>2.945614</td>\n      <td>NaN</td>\n      <td>0.002733</td>\n    </tr>\n    <tr>\n      <th>1177</th>\n      <td>12345645_7717</td>\n      <td>Strike</td>\n      <td>Foul</td>\n      <td>True</td>\n      <td>True</td>\n      <td>618024297.0</td>\n      <td>Xavier Xi</td>\n      <td>-129.760609</td>\n      <td>64.208298</td>\n      <td>76.0</td>\n      <td>...</td>\n      <td>77.365996</td>\n      <td>10.794742</td>\n      <td>75.625736</td>\n      <td>12.235964</td>\n      <td>7.306535</td>\n      <td>4.552919</td>\n      <td>5.714542</td>\n      <td>-0.019950</td>\n      <td>NaN</td>\n      <td>0.003000</td>\n    </tr>\n    <tr>\n      <th>1180</th>\n      <td>12345645_8063</td>\n      <td>HitIntoPlay</td>\n      <td>None</td>\n      <td>True</td>\n      <td>True</td>\n      <td>352830460.0</td>\n      <td>Bob Batterson</td>\n      <td>15.014613</td>\n      <td>31.432694</td>\n      <td>103.0</td>\n      <td>...</td>\n      <td>44.457782</td>\n      <td>-21.139064</td>\n      <td>39.110093</td>\n      <td>-0.187209</td>\n      <td>30.589680</td>\n      <td>-21.115396</td>\n      <td>22.075472</td>\n      <td>-1.594411</td>\n      <td>NaN</td>\n      <td>0.700000</td>\n    </tr>\n    <tr>\n      <th>1181</th>\n      <td>12345645_8329</td>\n      <td>HitIntoPlay</td>\n      <td>None</td>\n      <td>True</td>\n      <td>True</td>\n      <td>618024297.0</td>\n      <td>Xavier Xi</td>\n      <td>22.143770</td>\n      <td>12.095113</td>\n      <td>101.0</td>\n      <td>...</td>\n      <td>66.105160</td>\n      <td>9.156616</td>\n      <td>63.516617</td>\n      <td>15.864676</td>\n      <td>5.900034</td>\n      <td>3.928948</td>\n      <td>2.432455</td>\n      <td>3.668369</td>\n      <td>NaN</td>\n      <td>0.934000</td>\n    </tr>\n    <tr>\n      <th>1188</th>\n      <td>12345645_9382</td>\n      <td>HitIntoPlay</td>\n      <td>None</td>\n      <td>True</td>\n      <td>True</td>\n      <td>485007791.0</td>\n      <td>Liam Lowes</td>\n      <td>-60.582205</td>\n      <td>-62.338798</td>\n      <td>56.0</td>\n      <td>...</td>\n      <td>74.515074</td>\n      <td>7.985560</td>\n      <td>74.054809</td>\n      <td>2.147624</td>\n      <td>11.725862</td>\n      <td>-10.541984</td>\n      <td>5.124419</td>\n      <td>0.320534</td>\n      <td>NaN</td>\n      <td>0.259467</td>\n    </tr>\n  </tbody>\n</table>\n<p>320 rows × 23 columns</p>\n</div>"
     },
     "execution_count": 10,
     "metadata": {},
     "output_type": "execute_result"
    }
   ],
   "source": [
    "temp = event_df[event_df.has_hit==True]\n",
    "temp"
   ],
   "metadata": {
    "collapsed": false,
    "ExecuteTime": {
     "end_time": "2024-08-29T20:51:11.098168500Z",
     "start_time": "2024-08-29T20:51:11.081234Z"
    }
   },
   "id": "e5e661d9739111db"
  },
  {
   "cell_type": "code",
   "execution_count": 11,
   "outputs": [
    {
     "data": {
      "text/plain": "has_hit\nFalse    876\nTrue     320\nName: count, dtype: int64"
     },
     "execution_count": 11,
     "metadata": {},
     "output_type": "execute_result"
    }
   ],
   "source": [
    "event_df.has_hit.value_counts()"
   ],
   "metadata": {
    "collapsed": false,
    "ExecuteTime": {
     "end_time": "2024-08-29T20:51:11.109008400Z",
     "start_time": "2024-08-29T20:51:11.098168500Z"
    }
   },
   "id": "e816b41bacda987f"
  },
  {
   "cell_type": "code",
   "execution_count": 12,
   "outputs": [
    {
     "data": {
      "text/plain": "result\nStrike         563\nBall           432\nHitIntoPlay    181\nPickoff         20\nName: count, dtype: int64"
     },
     "execution_count": 12,
     "metadata": {},
     "output_type": "execute_result"
    }
   ],
   "source": [
    "event_df.result.value_counts()"
   ],
   "metadata": {
    "collapsed": false,
    "ExecuteTime": {
     "end_time": "2024-08-29T20:51:11.124077900Z",
     "start_time": "2024-08-29T20:51:11.103305400Z"
    }
   },
   "id": "50bac6eaa6134d0c"
  },
  {
   "cell_type": "code",
   "execution_count": 13,
   "outputs": [
    {
     "data": {
      "text/plain": "action\nCalled           610\nFoul             192\nBallInDirt        23\nThrowToFirst      19\nFoulTip           16\nHitByPitch         8\nBlocked            6\nThrowToSecond      1\nPitchout           1\nName: count, dtype: int64"
     },
     "execution_count": 13,
     "metadata": {},
     "output_type": "execute_result"
    }
   ],
   "source": [
    "event_df.action.value_counts()"
   ],
   "metadata": {
    "collapsed": false,
    "ExecuteTime": {
     "end_time": "2024-08-29T20:51:11.125078200Z",
     "start_time": "2024-08-29T20:51:11.108006400Z"
    }
   },
   "id": "28243fcc924ac273"
  },
  {
   "cell_type": "markdown",
   "source": [
    "# Broken Bat Tracking\n",
    "Some files have an error with their bat tracking, where the head and handle have the same coordinates at every time step.\n",
    "Those files have since been removed from the dataset, but this cell an always be used to detect them if somehow they sneak back in"
   ],
   "metadata": {
    "collapsed": false
   },
   "id": "400445600e8dbdf8"
  },
  {
   "cell_type": "code",
   "execution_count": 14,
   "outputs": [
    {
     "name": "stdout",
     "output_type": "stream",
     "text": [
      "570\n",
      "0\n"
     ]
    }
   ],
   "source": [
    "bat_df = event_df[event_df.has_bat==True]\n",
    "bad_files = []\n",
    "for _, fileID in bat_df.fileID.items():\n",
    "    frames = tracking_frames[fileID]\n",
    "    head_x, head_y, head_z, _ = util.extract_coords_from_frames(frames.head)\n",
    "    handle_x, handle_y, handle_z, _ = util.extract_coords_from_frames(frames.handle)\n",
    "    allx = all([a == b for (a, b) in zip(head_x, handle_x)])\n",
    "    ally = all([a == b for (a, b) in zip(head_y, handle_y)])\n",
    "    allz = all([a == b for (a, b) in zip(head_z, handle_z)])\n",
    "    if allx and ally and allz:\n",
    "        bad_files.append(fileID)\n",
    "print(len(bat_df))\n",
    "print(len(bad_files))"
   ],
   "metadata": {
    "collapsed": false,
    "ExecuteTime": {
     "end_time": "2024-08-29T20:51:11.366138600Z",
     "start_time": "2024-08-29T20:51:11.116078400Z"
    }
   },
   "id": "5a784196c5afef46"
  },
  {
   "cell_type": "code",
   "execution_count": 14,
   "outputs": [],
   "source": [],
   "metadata": {
    "collapsed": false,
    "ExecuteTime": {
     "end_time": "2024-08-29T20:51:11.366138600Z",
     "start_time": "2024-08-29T20:51:11.360144100Z"
    }
   },
   "id": "fbe474b310543600"
  },
  {
   "cell_type": "code",
   "execution_count": 14,
   "outputs": [],
   "source": [],
   "metadata": {
    "collapsed": false,
    "ExecuteTime": {
     "end_time": "2024-08-29T20:51:11.366138600Z",
     "start_time": "2024-08-29T20:51:11.361656Z"
    }
   },
   "id": "4e8734bb8f5faa95"
  }
 ],
 "metadata": {
  "kernelspec": {
   "display_name": "Python 3",
   "language": "python",
   "name": "python3"
  },
  "language_info": {
   "codemirror_mode": {
    "name": "ipython",
    "version": 2
   },
   "file_extension": ".py",
   "mimetype": "text/x-python",
   "name": "python",
   "nbconvert_exporter": "python",
   "pygments_lexer": "ipython2",
   "version": "2.7.6"
  }
 },
 "nbformat": 4,
 "nbformat_minor": 5
}
